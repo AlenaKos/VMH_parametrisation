{
 "cells": [
  {
   "cell_type": "code",
   "execution_count": 1,
   "id": "b0fef166",
   "metadata": {},
   "outputs": [],
   "source": [
    "# script for processing the ICON+MS-GWaM data, output and filter results of MS-GWaM prametrisation \n",
    "# ploting routines for number of ocurances of large-scale vertical winds, leading ray volume vertical winds,\n",
    "# corresponding frequency of the GW and momentum flux induced by the corresponding GW. Figure 3 \n",
    "\n",
    "# date: 29.08.2024\n",
    "# author: A. Kosareva\n",
    "\n",
    "\n",
    "import netCDF4\n",
    "import numpy as np\n",
    "import math \n",
    "import matplotlib.pyplot as plt\n",
    "import matplotlib.tri as tri\n",
    "import cartopy.crs as ccrs\n",
    "import lib.lICONio as iio\n",
    "import struct"
   ]
  },
  {
   "cell_type": "code",
   "execution_count": 2,
   "id": "5d18d471",
   "metadata": {},
   "outputs": [],
   "source": [
    "# loading of the ICON output\n",
    "# requires files: \n",
    "# and library \n",
    "\n",
    "# specify path to the grid data\n",
    "base = '/home/administrator/Documents/ICON/test_for_ice_cloud_models/'\n",
    "vgrd_path = base + '../data_grids/vgrid_DOM01_r2b5.nc'\n",
    "grid_path = base + '../data_grids/icon_grid_0030_R02B05_G.nc'\n",
    "\n",
    "# set nesessary day of the output\n",
    "nday =18\n",
    "# nday = 21\n",
    "\n",
    "# specify path to ICON output file\n",
    "file_1_fs = base +'../short_tests/gscp811_spgw_egu/with_ef_forcing/gws-0_DOM01_ML_201005'+str(nday)+'T000000Z.nc'\n",
    "#     loading the output and specific parameters \"clon_bnds\", etc.\n",
    "data1fs = iio.ICONIO(file_1_fs, grid_path, vgrid_path=vgrd_path)\n",
    "data1fs.load_dataset('z_ifc',vgrid=True)\n",
    "\n",
    "\n",
    "subset = np.where((np.rad2deg(data1fs.clat) >= -91) &\n",
    "                  (np.rad2deg(data1fs.clat) <= 91) &\n",
    "                  (np.rad2deg(data1fs.clon) >= -180) &\n",
    "                  (np.rad2deg(data1fs.clon) <= 180))\n",
    "\n"
   ]
  },
  {
   "cell_type": "code",
   "execution_count": 3,
   "id": "ac51fe02",
   "metadata": {},
   "outputs": [],
   "source": [
    "# calculation of the momentum flux of GW from the vertical wind amplitude and frequency\n",
    "def mom_flux(A,omega):\n",
    "#     constants\n",
    "    Rsp = 287 #J/kg/K\n",
    "    T_00 = 210 #K\n",
    "    p_00 = 30000 # Pa\n",
    "    f0 = 1e-4 #1/s\n",
    "    NN=0.02 #1/s\n",
    "    rho = p_00/Rsp/T_00 # Pa/J*kg*K/K - >Pa /(kg m2/s2)*kg ->Pa *s2/m2\n",
    "    freq = np.array(omega) # 1/s\n",
    "    return (rho *((NN**2 - freq **2)/(freq**2-f0**2))**(0.5)*np.array(A)**2) #Pa"
   ]
  },
  {
   "cell_type": "code",
   "execution_count": 4,
   "id": "f07fa3a5",
   "metadata": {},
   "outputs": [],
   "source": [
    "# filtering routine for ICON-MS-GWaM data\n",
    "def filtering_w(w,om):\n",
    "    w_filtered  = np.reshape(w,-1)\n",
    "    om_filtered = np.reshape(om,-1)\n",
    "#     filter cells with updrafts \n",
    "    om_filtered=om_filtered[np.where(w_filtered>0)]\n",
    "    w_filtered = w_filtered[np.where(w_filtered>0)]\n",
    "#     additional filter of cells with omega<f=1e-4 (Coriolis parameter)\n",
    "    w_filtered = w_filtered[np.where(om_filtered>1e-4)]\n",
    "    om_filtered=om_filtered[np.where(om_filtered>1e-4)]\n",
    "    return w_filtered, om_filtered"
   ]
  },
  {
   "cell_type": "code",
   "execution_count": 9,
   "id": "d87703d3",
   "metadata": {},
   "outputs": [
    {
     "name": "stdout",
     "output_type": "stream",
     "text": [
      "Saved data set: \n",
      " w_hat_18sample.dat\n"
     ]
    }
   ],
   "source": [
    "#Save filtered data for further use in constructing the forcing term in the parcel model\n",
    "\n",
    "#load the data for 1 day\n",
    "nday =18\n",
    "# nday = 21\n",
    "if (nday<10):\n",
    "    file_1_fs = base +'../short_tests/gscp811_spgw_egu/with_ef_forcing/gws-0_DOM01_ML_2010050'+str(nday)+'T000000Z.nc'\n",
    "else:\n",
    "    file_1_fs = base +'../short_tests/gscp811_spgw_egu/with_ef_forcing/gws-0_DOM01_ML_201005'+str(nday)+'T000000Z.nc'\n",
    "\n",
    "data1fs = iio.ICONIO(file_1_fs, grid_path, vgrid_path=vgrd_path)\n",
    "data1fs.load_dataset('z_ifc',vgrid=True)\n",
    "data1fs.load_dataset('vert_vel_gwf')\n",
    "data1fs.load_dataset('omega_gwf')\n",
    "data1fs.load_dataset('phase_gwf')\n",
    "data1fs.load_dataset(\"w\")\n",
    "\n",
    "# selecting the vertical boudaries relevant for cirrus \n",
    "height =8e3\n",
    "vertical_index_bot = np.argmin(np.abs(height - data1fs.z_ifc[:, 0]))\n",
    "\n",
    "height =14e3\n",
    "vertical_index_top = np.argmin(np.abs(height - data1fs.z_ifc[:, 0]))\n",
    "\n",
    "# saving the parameters w, hat{w}, omega\n",
    "W_day = data1fs.vert_vel_gwf[0,vertical_index_top:vertical_index_bot,subset]\n",
    "om_day =data1fs.omega_gwf[0,vertical_index_top:vertical_index_bot,subset]\n",
    "w = np.reshape(np.array(data1fs.w[0,vertical_index_top:vertical_index_bot,subset]),-1)\n",
    "\n",
    "#filter the data from zeros and irrelevant omegas \n",
    "w_filt,om1_filt =filtering_w(W_day,om_day)\n",
    "\n",
    "#write to binary files \n",
    "handle = open('w_hat_'+str(nday)+'sample.dat', 'wb')\n",
    "handle.write(struct.pack('<%dd' % len(w_filt), *w_filt))\n",
    "handle.close()\n",
    "\n",
    "handle = open('omega_'+str(nday)+'sample.dat', 'wb')\n",
    "handle.write(struct.pack('<%dd' % len(om1_filt), *om1_filt))\n",
    "handle.close()\n",
    "\n",
    "handle = open('vertvel_'+str(nday)+'sample.dat', 'wb')\n",
    "handle.write(struct.pack('<%dd' % len(w), *w))\n",
    "handle.close()\n",
    "\n",
    "print('Saved data set:', '\\n w_hat_'+str(nday)+'sample.dat')\n"
   ]
  },
  {
   "cell_type": "code",
   "execution_count": 14,
   "id": "ade77050",
   "metadata": {},
   "outputs": [],
   "source": [
    "# select data from 9 to 14 km\n",
    "\n",
    "height =9e3\n",
    "vertical_index_bot = np.argmin(np.abs(height - data1fs.z_ifc[:, 0]))\n",
    "\n",
    "height =14e3\n",
    "vertical_index_top = np.argmin(np.abs(height - data1fs.z_ifc[:, 0]))\n",
    "\n",
    "W_day = data1fs.vert_vel_gwf[0,vertical_index_top:vertical_index_bot,subset]\n",
    "om_day =data1fs.omega_gwf[0,vertical_index_top:vertical_index_bot,subset]\n",
    "w = np.reshape(np.array(data1fs.w[0,vertical_index_top:vertical_index_bot,subset]),-1)\n",
    "w_filt,om1_filt =filtering_w(W_day,om_day)"
   ]
  },
  {
   "cell_type": "code",
   "execution_count": 17,
   "id": "3f0944e3",
   "metadata": {},
   "outputs": [
    {
     "data": {
      "image/png": "[encoded data removed]",
      "text/plain": [
       "<Figure size 1008x252 with 4 Axes>"
      ]
     },
     "metadata": {
      "needs_background": "light"
     },
     "output_type": "display_data"
    }
   ],
   "source": [
    "# plot data for number of ocurences of w, hat{w}, omega and rhouw momentum flux\n",
    "# select the font size\n",
    "fs = 16\n",
    "\n",
    "# plot 4 histograms\n",
    "fig, axs = plt.subplots(ncols =4, figsize=(14,3.5),sharey=True, tight_layout=True)\n",
    "\n",
    "# w plot\n",
    "axs[0].set_ylabel('Number of occurrences',fontsize = fs)\n",
    "axs[0].hist((w), bins=105,alpha = 0.7)\n",
    "axs[0].set_xlabel('$w$, ms$^{-1}$',fontsize = fs)\n",
    "\n",
    "# hat{w} plot\n",
    "ticksNpost = np.array([1e-6, 1e-4,1e-2, 1e0,1e2])\n",
    "ticksNs = ([\"$10^{-6}$\", \"$10^{-4}$\",\"$10^{-2}$\", \"$1$\", \"$10^{2}$\"])\n",
    "axs[1].hist(np.log(w_filt), bins=105,alpha = 0.7)\n",
    "axs[1].set_xticks(np.log(ticksNpost), ticksNs,\n",
    "       rotation=0)\n",
    "axs[1].set_xlim(np.log(1e-7), np.log(1e2))\n",
    "axs[1].set_xlabel('$\\hat{w}$, ms$^{-1}$',fontsize = fs)\n",
    "\n",
    "# omega plot\n",
    "ticksNpost = np.array([1e-4, 1e-3, 1e-2])\n",
    "ticksNs = ([\"$10^{-4}$\", \"$10^{-3}$\", \"$10^{-2}$\"])\n",
    "axs[2].set_xticks(np.log(ticksNpost), ticksNs,\n",
    "       rotation=0)\n",
    "# We can set the number of bins with the *bins* keyword argument.\n",
    "axs[2].hist(np.log(om1_filt), bins=105,alpha = 0.7)\n",
    "axs[2].set_xlabel('$\\omega$,  s$^{-1}$',fontsize = fs)\n",
    "\n",
    "# calculation and plot for momentum flux\n",
    "mom_msgwam =  mom_flux(w_filt,om1_filt) #in Pa\n",
    "axs[3].hist(mom_msgwam*1e3, bins=1000,alpha = 0.7)\n",
    "axs[3].set_xlabel(r'$\\rho u w$,  mPa',fontsize = fs)\n",
    "axs[3].set_xlim(0,150)\n",
    "\n",
    "for ax in axs.flat:\n",
    "    ax.xaxis.set_tick_params(labelsize=fs-2)\n",
    "    ax.yaxis.set_tick_params(labelsize=fs-2)\n",
    "    ax.set_yscale('log')\n",
    "\n",
    "plt.savefig('IC_plot_joined_log.png',bbox_inches='tight',dpi=300)\n",
    "plt.show()"
   ]
  },
  {
   "cell_type": "code",
   "execution_count": null,
   "id": "6318927b",
   "metadata": {},
   "outputs": [],
   "source": []
  }
 ],
 "metadata": {
  "kernelspec": {
   "display_name": "Python 3 (ipykernel)",
   "language": "python",
   "name": "python3"
  },
  "language_info": {
   "codemirror_mode": {
    "name": "ipython",
    "version": 3
   },
   "file_extension": ".py",
   "mimetype": "text/x-python",
   "name": "python",
   "nbconvert_exporter": "python",
   "pygments_lexer": "ipython3",
   "version": "3.9.12"
  }
 },
 "nbformat": 4,
 "nbformat_minor": 5
}
